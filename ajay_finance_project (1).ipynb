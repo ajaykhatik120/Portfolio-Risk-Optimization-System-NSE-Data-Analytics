{
 "cells": [
  {
   "cell_type": "code",
   "execution_count": 21,
   "id": "f9ef837e-f22b-4d06-9a3b-6453c3a4a4bd",
   "metadata": {},
   "outputs": [],
   "source": [
    "import numpy as np\n",
    "import pandas as pd\n",
    "import matplotlib.pyplot as plt\n",
    "import seaborn as sns"
   ]
  },
  {
   "cell_type": "code",
   "execution_count": 22,
   "id": "e1c9356f-f273-453f-a10c-521687cf20ca",
   "metadata": {},
   "outputs": [],
   "source": [
    "data=pd.read_csv('01-02-2024-TO-01-11-2024-IRFC-EQ-N.csv')"
   ]
  },
  {
   "cell_type": "code",
   "execution_count": 23,
   "id": "187508f8-fa6c-418b-b390-3c42ce36591a",
   "metadata": {},
   "outputs": [],
   "source": [
    "new_column_names=['Symbol', 'Series', 'Date', 'Prev Close', 'Open Price',\n",
    "       'High Price', 'Low Price', 'Last Price', 'Close Price',\n",
    "       'Average Price', 'Total Traded Quantity', 'Turnover ₹',\n",
    "       'No. of Trades', 'Deliverable Qty', '% Dly Qt to Traded Qty']"
   ]
  },
  {
   "cell_type": "code",
   "execution_count": 24,
   "id": "f9876b1b-a212-42d6-a511-93a1e3169ef7",
   "metadata": {},
   "outputs": [],
   "source": [
    "data.columns= new_column_names"
   ]
  },
  {
   "cell_type": "code",
   "execution_count": 25,
   "id": "e8803139-a2b5-4f12-bdc9-8f88f8162fb5",
   "metadata": {},
   "outputs": [
    {
     "data": {
      "text/plain": [
       "Index(['Symbol', 'Series', 'Date', 'Prev Close', 'Open Price', 'High Price',\n",
       "       'Low Price', 'Last Price', 'Close Price', 'Average Price',\n",
       "       'Total Traded Quantity', 'Turnover ₹', 'No. of Trades',\n",
       "       'Deliverable Qty', '% Dly Qt to Traded Qty'],\n",
       "      dtype='object')"
      ]
     },
     "execution_count": 25,
     "metadata": {},
     "output_type": "execute_result"
    }
   ],
   "source": [
    "data.columns"
   ]
  },
  {
   "cell_type": "code",
   "execution_count": 26,
   "id": "2147b271-1302-4318-afb9-5084b3f1af9d",
   "metadata": {},
   "outputs": [
    {
     "data": {
      "text/html": [
       "<div>\n",
       "<style scoped>\n",
       "    .dataframe tbody tr th:only-of-type {\n",
       "        vertical-align: middle;\n",
       "    }\n",
       "\n",
       "    .dataframe tbody tr th {\n",
       "        vertical-align: top;\n",
       "    }\n",
       "\n",
       "    .dataframe thead th {\n",
       "        text-align: right;\n",
       "    }\n",
       "</style>\n",
       "<table border=\"1\" class=\"dataframe\">\n",
       "  <thead>\n",
       "    <tr style=\"text-align: right;\">\n",
       "      <th></th>\n",
       "      <th>Symbol</th>\n",
       "      <th>Series</th>\n",
       "      <th>Date</th>\n",
       "      <th>Prev Close</th>\n",
       "      <th>Open Price</th>\n",
       "      <th>High Price</th>\n",
       "      <th>Low Price</th>\n",
       "      <th>Last Price</th>\n",
       "      <th>Close Price</th>\n",
       "      <th>Average Price</th>\n",
       "      <th>Total Traded Quantity</th>\n",
       "      <th>Turnover ₹</th>\n",
       "      <th>No. of Trades</th>\n",
       "      <th>Deliverable Qty</th>\n",
       "      <th>% Dly Qt to Traded Qty</th>\n",
       "    </tr>\n",
       "  </thead>\n",
       "  <tbody>\n",
       "    <tr>\n",
       "      <th>0</th>\n",
       "      <td>IRFC</td>\n",
       "      <td>EQ</td>\n",
       "      <td>01-Feb-2024</td>\n",
       "      <td>175.15</td>\n",
       "      <td>180.00</td>\n",
       "      <td>183.25</td>\n",
       "      <td>168.20</td>\n",
       "      <td>170.40</td>\n",
       "      <td>169.90</td>\n",
       "      <td>176.28</td>\n",
       "      <td>16,58,94,732</td>\n",
       "      <td>29,24,32,19,991.50</td>\n",
       "      <td>8,00,797</td>\n",
       "      <td>4,79,21,219</td>\n",
       "      <td>28.89</td>\n",
       "    </tr>\n",
       "    <tr>\n",
       "      <th>1</th>\n",
       "      <td>IRFC</td>\n",
       "      <td>EQ</td>\n",
       "      <td>02-Feb-2024</td>\n",
       "      <td>169.90</td>\n",
       "      <td>172.70</td>\n",
       "      <td>175.00</td>\n",
       "      <td>167.10</td>\n",
       "      <td>168.90</td>\n",
       "      <td>168.95</td>\n",
       "      <td>170.13</td>\n",
       "      <td>6,17,39,734</td>\n",
       "      <td>10,50,35,52,611.60</td>\n",
       "      <td>3,65,908</td>\n",
       "      <td>2,30,28,922</td>\n",
       "      <td>37.30</td>\n",
       "    </tr>\n",
       "    <tr>\n",
       "      <th>2</th>\n",
       "      <td>IRFC</td>\n",
       "      <td>EQ</td>\n",
       "      <td>05-Feb-2024</td>\n",
       "      <td>168.95</td>\n",
       "      <td>170.15</td>\n",
       "      <td>170.20</td>\n",
       "      <td>160.00</td>\n",
       "      <td>160.40</td>\n",
       "      <td>160.55</td>\n",
       "      <td>163.20</td>\n",
       "      <td>6,89,87,316</td>\n",
       "      <td>11,25,85,68,929.50</td>\n",
       "      <td>5,92,725</td>\n",
       "      <td>3,38,23,210</td>\n",
       "      <td>49.03</td>\n",
       "    </tr>\n",
       "    <tr>\n",
       "      <th>3</th>\n",
       "      <td>IRFC</td>\n",
       "      <td>EQ</td>\n",
       "      <td>06-Feb-2024</td>\n",
       "      <td>160.55</td>\n",
       "      <td>161.40</td>\n",
       "      <td>164.20</td>\n",
       "      <td>152.10</td>\n",
       "      <td>161.40</td>\n",
       "      <td>160.90</td>\n",
       "      <td>159.86</td>\n",
       "      <td>8,14,34,112</td>\n",
       "      <td>13,01,83,26,877.55</td>\n",
       "      <td>4,49,663</td>\n",
       "      <td>2,15,86,286</td>\n",
       "      <td>26.51</td>\n",
       "    </tr>\n",
       "    <tr>\n",
       "      <th>4</th>\n",
       "      <td>IRFC</td>\n",
       "      <td>EQ</td>\n",
       "      <td>07-Feb-2024</td>\n",
       "      <td>160.90</td>\n",
       "      <td>164.50</td>\n",
       "      <td>165.90</td>\n",
       "      <td>159.65</td>\n",
       "      <td>162.95</td>\n",
       "      <td>162.50</td>\n",
       "      <td>162.64</td>\n",
       "      <td>3,68,16,341</td>\n",
       "      <td>5,98,76,42,205.85</td>\n",
       "      <td>2,21,016</td>\n",
       "      <td>1,18,34,266</td>\n",
       "      <td>32.14</td>\n",
       "    </tr>\n",
       "  </tbody>\n",
       "</table>\n",
       "</div>"
      ],
      "text/plain": [
       "  Symbol Series         Date  Prev Close  Open Price  High Price  Low Price  \\\n",
       "0   IRFC     EQ  01-Feb-2024      175.15      180.00      183.25     168.20   \n",
       "1   IRFC     EQ  02-Feb-2024      169.90      172.70      175.00     167.10   \n",
       "2   IRFC     EQ  05-Feb-2024      168.95      170.15      170.20     160.00   \n",
       "3   IRFC     EQ  06-Feb-2024      160.55      161.40      164.20     152.10   \n",
       "4   IRFC     EQ  07-Feb-2024      160.90      164.50      165.90     159.65   \n",
       "\n",
       "   Last Price  Close Price  Average Price Total Traded Quantity  \\\n",
       "0      170.40       169.90         176.28          16,58,94,732   \n",
       "1      168.90       168.95         170.13           6,17,39,734   \n",
       "2      160.40       160.55         163.20           6,89,87,316   \n",
       "3      161.40       160.90         159.86           8,14,34,112   \n",
       "4      162.95       162.50         162.64           3,68,16,341   \n",
       "\n",
       "           Turnover ₹ No. of Trades Deliverable Qty  % Dly Qt to Traded Qty  \n",
       "0  29,24,32,19,991.50      8,00,797     4,79,21,219                   28.89  \n",
       "1  10,50,35,52,611.60      3,65,908     2,30,28,922                   37.30  \n",
       "2  11,25,85,68,929.50      5,92,725     3,38,23,210                   49.03  \n",
       "3  13,01,83,26,877.55      4,49,663     2,15,86,286                   26.51  \n",
       "4   5,98,76,42,205.85      2,21,016     1,18,34,266                   32.14  "
      ]
     },
     "execution_count": 26,
     "metadata": {},
     "output_type": "execute_result"
    }
   ],
   "source": [
    "data.head()"
   ]
  },
  {
   "cell_type": "code",
   "execution_count": 27,
   "id": "227cd86c-1f6b-458a-ae8f-669878b9dc62",
   "metadata": {},
   "outputs": [],
   "source": [
    "data2=data[['Date','Open Price','High Price','Low Price','Close Price','Total Traded Quantity']]"
   ]
  },
  {
   "cell_type": "code",
   "execution_count": 28,
   "id": "6728565b-bbe9-4b7d-9bb3-839b8ec9012a",
   "metadata": {},
   "outputs": [],
   "source": [
    "nc=['Date','Open','High','Low','Close','Volume']"
   ]
  },
  {
   "cell_type": "code",
   "execution_count": 29,
   "id": "895b3516-87e4-4510-bfcb-3faf57be42bc",
   "metadata": {},
   "outputs": [],
   "source": [
    "data2.columns=nc"
   ]
  },
  {
   "cell_type": "code",
   "execution_count": 30,
   "id": "446475f5-8656-4959-9e6e-61db93575e4f",
   "metadata": {},
   "outputs": [
    {
     "data": {
      "text/html": [
       "<div>\n",
       "<style scoped>\n",
       "    .dataframe tbody tr th:only-of-type {\n",
       "        vertical-align: middle;\n",
       "    }\n",
       "\n",
       "    .dataframe tbody tr th {\n",
       "        vertical-align: top;\n",
       "    }\n",
       "\n",
       "    .dataframe thead th {\n",
       "        text-align: right;\n",
       "    }\n",
       "</style>\n",
       "<table border=\"1\" class=\"dataframe\">\n",
       "  <thead>\n",
       "    <tr style=\"text-align: right;\">\n",
       "      <th></th>\n",
       "      <th>Date</th>\n",
       "      <th>Open</th>\n",
       "      <th>High</th>\n",
       "      <th>Low</th>\n",
       "      <th>Close</th>\n",
       "      <th>Volume</th>\n",
       "    </tr>\n",
       "  </thead>\n",
       "  <tbody>\n",
       "    <tr>\n",
       "      <th>0</th>\n",
       "      <td>01-Feb-2024</td>\n",
       "      <td>180.00</td>\n",
       "      <td>183.25</td>\n",
       "      <td>168.20</td>\n",
       "      <td>169.90</td>\n",
       "      <td>16,58,94,732</td>\n",
       "    </tr>\n",
       "    <tr>\n",
       "      <th>1</th>\n",
       "      <td>02-Feb-2024</td>\n",
       "      <td>172.70</td>\n",
       "      <td>175.00</td>\n",
       "      <td>167.10</td>\n",
       "      <td>168.95</td>\n",
       "      <td>6,17,39,734</td>\n",
       "    </tr>\n",
       "    <tr>\n",
       "      <th>2</th>\n",
       "      <td>05-Feb-2024</td>\n",
       "      <td>170.15</td>\n",
       "      <td>170.20</td>\n",
       "      <td>160.00</td>\n",
       "      <td>160.55</td>\n",
       "      <td>6,89,87,316</td>\n",
       "    </tr>\n",
       "    <tr>\n",
       "      <th>3</th>\n",
       "      <td>06-Feb-2024</td>\n",
       "      <td>161.40</td>\n",
       "      <td>164.20</td>\n",
       "      <td>152.10</td>\n",
       "      <td>160.90</td>\n",
       "      <td>8,14,34,112</td>\n",
       "    </tr>\n",
       "    <tr>\n",
       "      <th>4</th>\n",
       "      <td>07-Feb-2024</td>\n",
       "      <td>164.50</td>\n",
       "      <td>165.90</td>\n",
       "      <td>159.65</td>\n",
       "      <td>162.50</td>\n",
       "      <td>3,68,16,341</td>\n",
       "    </tr>\n",
       "  </tbody>\n",
       "</table>\n",
       "</div>"
      ],
      "text/plain": [
       "          Date    Open    High     Low   Close        Volume\n",
       "0  01-Feb-2024  180.00  183.25  168.20  169.90  16,58,94,732\n",
       "1  02-Feb-2024  172.70  175.00  167.10  168.95   6,17,39,734\n",
       "2  05-Feb-2024  170.15  170.20  160.00  160.55   6,89,87,316\n",
       "3  06-Feb-2024  161.40  164.20  152.10  160.90   8,14,34,112\n",
       "4  07-Feb-2024  164.50  165.90  159.65  162.50   3,68,16,341"
      ]
     },
     "execution_count": 30,
     "metadata": {},
     "output_type": "execute_result"
    }
   ],
   "source": [
    "data2.head()"
   ]
  },
  {
   "cell_type": "code",
   "execution_count": 31,
   "id": "934c1bcf-570a-4ced-b870-1d360db6ed78",
   "metadata": {},
   "outputs": [],
   "source": [
    "stock1_copy=data2.copy()"
   ]
  },
  {
   "cell_type": "code",
   "execution_count": 32,
   "id": "89006d2d-0347-4ec3-83ad-ee16c6c98d8d",
   "metadata": {},
   "outputs": [],
   "source": [
    "stock1_copy['Date'] = pd.to_datetime(stock1_copy['Date'])"
   ]
  },
  {
   "cell_type": "code",
   "execution_count": 33,
   "id": "9680622a-e0dd-4b5e-b470-d582c303d838",
   "metadata": {},
   "outputs": [
    {
     "data": {
      "text/html": [
       "<div>\n",
       "<style scoped>\n",
       "    .dataframe tbody tr th:only-of-type {\n",
       "        vertical-align: middle;\n",
       "    }\n",
       "\n",
       "    .dataframe tbody tr th {\n",
       "        vertical-align: top;\n",
       "    }\n",
       "\n",
       "    .dataframe thead th {\n",
       "        text-align: right;\n",
       "    }\n",
       "</style>\n",
       "<table border=\"1\" class=\"dataframe\">\n",
       "  <thead>\n",
       "    <tr style=\"text-align: right;\">\n",
       "      <th></th>\n",
       "      <th>Date</th>\n",
       "      <th>Open</th>\n",
       "      <th>High</th>\n",
       "      <th>Low</th>\n",
       "      <th>Close</th>\n",
       "      <th>Volume</th>\n",
       "    </tr>\n",
       "  </thead>\n",
       "  <tbody>\n",
       "    <tr>\n",
       "      <th>0</th>\n",
       "      <td>2024-02-01</td>\n",
       "      <td>180.00</td>\n",
       "      <td>183.25</td>\n",
       "      <td>168.2</td>\n",
       "      <td>169.90</td>\n",
       "      <td>16,58,94,732</td>\n",
       "    </tr>\n",
       "    <tr>\n",
       "      <th>1</th>\n",
       "      <td>2024-02-02</td>\n",
       "      <td>172.70</td>\n",
       "      <td>175.00</td>\n",
       "      <td>167.1</td>\n",
       "      <td>168.95</td>\n",
       "      <td>6,17,39,734</td>\n",
       "    </tr>\n",
       "    <tr>\n",
       "      <th>2</th>\n",
       "      <td>2024-02-05</td>\n",
       "      <td>170.15</td>\n",
       "      <td>170.20</td>\n",
       "      <td>160.0</td>\n",
       "      <td>160.55</td>\n",
       "      <td>6,89,87,316</td>\n",
       "    </tr>\n",
       "  </tbody>\n",
       "</table>\n",
       "</div>"
      ],
      "text/plain": [
       "        Date    Open    High    Low   Close        Volume\n",
       "0 2024-02-01  180.00  183.25  168.2  169.90  16,58,94,732\n",
       "1 2024-02-02  172.70  175.00  167.1  168.95   6,17,39,734\n",
       "2 2024-02-05  170.15  170.20  160.0  160.55   6,89,87,316"
      ]
     },
     "execution_count": 33,
     "metadata": {},
     "output_type": "execute_result"
    }
   ],
   "source": [
    "stock1_copy.head(3)"
   ]
  },
  {
   "cell_type": "code",
   "execution_count": 34,
   "id": "98ca735f-f947-4fbc-9018-bafe160dd108",
   "metadata": {},
   "outputs": [],
   "source": [
    "stock1_copy.set_index('Date', inplace=True)"
   ]
  },
  {
   "cell_type": "code",
   "execution_count": 35,
   "id": "6f983505-017c-4b02-bd04-baf864507a05",
   "metadata": {},
   "outputs": [
    {
     "data": {
      "text/html": [
       "<div>\n",
       "<style scoped>\n",
       "    .dataframe tbody tr th:only-of-type {\n",
       "        vertical-align: middle;\n",
       "    }\n",
       "\n",
       "    .dataframe tbody tr th {\n",
       "        vertical-align: top;\n",
       "    }\n",
       "\n",
       "    .dataframe thead th {\n",
       "        text-align: right;\n",
       "    }\n",
       "</style>\n",
       "<table border=\"1\" class=\"dataframe\">\n",
       "  <thead>\n",
       "    <tr style=\"text-align: right;\">\n",
       "      <th></th>\n",
       "      <th>Open</th>\n",
       "      <th>High</th>\n",
       "      <th>Low</th>\n",
       "      <th>Close</th>\n",
       "      <th>Volume</th>\n",
       "    </tr>\n",
       "    <tr>\n",
       "      <th>Date</th>\n",
       "      <th></th>\n",
       "      <th></th>\n",
       "      <th></th>\n",
       "      <th></th>\n",
       "      <th></th>\n",
       "    </tr>\n",
       "  </thead>\n",
       "  <tbody>\n",
       "    <tr>\n",
       "      <th>2024-02-01</th>\n",
       "      <td>180.00</td>\n",
       "      <td>183.25</td>\n",
       "      <td>168.20</td>\n",
       "      <td>169.90</td>\n",
       "      <td>16,58,94,732</td>\n",
       "    </tr>\n",
       "    <tr>\n",
       "      <th>2024-02-02</th>\n",
       "      <td>172.70</td>\n",
       "      <td>175.00</td>\n",
       "      <td>167.10</td>\n",
       "      <td>168.95</td>\n",
       "      <td>6,17,39,734</td>\n",
       "    </tr>\n",
       "    <tr>\n",
       "      <th>2024-02-05</th>\n",
       "      <td>170.15</td>\n",
       "      <td>170.20</td>\n",
       "      <td>160.00</td>\n",
       "      <td>160.55</td>\n",
       "      <td>6,89,87,316</td>\n",
       "    </tr>\n",
       "    <tr>\n",
       "      <th>2024-02-06</th>\n",
       "      <td>161.40</td>\n",
       "      <td>164.20</td>\n",
       "      <td>152.10</td>\n",
       "      <td>160.90</td>\n",
       "      <td>8,14,34,112</td>\n",
       "    </tr>\n",
       "    <tr>\n",
       "      <th>2024-02-07</th>\n",
       "      <td>164.50</td>\n",
       "      <td>165.90</td>\n",
       "      <td>159.65</td>\n",
       "      <td>162.50</td>\n",
       "      <td>3,68,16,341</td>\n",
       "    </tr>\n",
       "  </tbody>\n",
       "</table>\n",
       "</div>"
      ],
      "text/plain": [
       "              Open    High     Low   Close        Volume\n",
       "Date                                                    \n",
       "2024-02-01  180.00  183.25  168.20  169.90  16,58,94,732\n",
       "2024-02-02  172.70  175.00  167.10  168.95   6,17,39,734\n",
       "2024-02-05  170.15  170.20  160.00  160.55   6,89,87,316\n",
       "2024-02-06  161.40  164.20  152.10  160.90   8,14,34,112\n",
       "2024-02-07  164.50  165.90  159.65  162.50   3,68,16,341"
      ]
     },
     "execution_count": 35,
     "metadata": {},
     "output_type": "execute_result"
    }
   ],
   "source": [
    "stock1_copy.head()"
   ]
  },
  {
   "cell_type": "code",
   "execution_count": 36,
   "id": "25f414bb-5a28-4707-b11a-692de414437f",
   "metadata": {},
   "outputs": [],
   "source": [
    "stock1_copy.to_csv('IRFC.csv')"
   ]
  },
  {
   "cell_type": "code",
   "execution_count": 20,
   "id": "b9280da4-8591-408b-8243-6ba07de04168",
   "metadata": {},
   "outputs": [
    {
     "data": {
      "text/plain": [
       "pandas.core.indexes.datetimes.DatetimeIndex"
      ]
     },
     "execution_count": 20,
     "metadata": {},
     "output_type": "execute_result"
    }
   ],
   "source": [
    "type(stock1_copy.index)"
   ]
  },
  {
   "cell_type": "code",
   "execution_count": 18,
   "id": "ccc91cc7-353a-4342-b527-f43a84ec9528",
   "metadata": {},
   "outputs": [],
   "source": [
    "#####"
   ]
  },
  {
   "cell_type": "code",
   "execution_count": null,
   "id": "1fc3b47a-c2e3-4c46-95e5-5a63ecd12e62",
   "metadata": {},
   "outputs": [],
   "source": [
    "pd.to_csv('Total Traded Quantity')"
   ]
  },
  {
   "cell_type": "markdown",
   "id": "e7a9b2af-1d0f-4df1-b39f-750ebad8de60",
   "metadata": {},
   "source": [
    "df1_skipper=pd.read_csv('skipper_data/01-02-2021-TO-01-02-2022-SKIPPER-EQ-N.csv')"
   ]
  },
  {
   "cell_type": "markdown",
   "id": "72535f83-48be-4a13-8c34-72a94cefbc5b",
   "metadata": {},
   "source": [
    "df2_skipper=pd.read_csv('skipper_data/01-02-2022-TO-01-02-2023-SKIPPER-EQ-N.csv')"
   ]
  },
  {
   "cell_type": "markdown",
   "id": "5c34f424-1902-4b7b-b2ce-c0d04bf2a724",
   "metadata": {},
   "source": [
    "df3_skipper=pd.read_csv('skipper_data/01-02-2023-TO-01-02-2024-SKIPPER-EQ-N.csv')"
   ]
  },
  {
   "cell_type": "code",
   "execution_count": 25,
   "id": "cf148d60-8bb6-4761-afb2-1660724111ab",
   "metadata": {},
   "outputs": [],
   "source": [
    "df4_skipper=pd.read_csv('skipper_data/01-02-2024-TO-01-11-2024-SKIPPER-EQ-N.csv')"
   ]
  },
  {
   "cell_type": "code",
   "execution_count": 32,
   "id": "8dce8c2a-f7bd-43a7-8040-08f04151bdbf",
   "metadata": {},
   "outputs": [],
   "source": [
    "#######"
   ]
  },
  {
   "cell_type": "code",
   "execution_count": 33,
   "id": "80464728-ac62-495e-b38b-3857714b2738",
   "metadata": {},
   "outputs": [],
   "source": [
    "#######"
   ]
  },
  {
   "cell_type": "code",
   "execution_count": 34,
   "id": "bd32ac9f-c451-42da-9782-7003bd3f3b74",
   "metadata": {},
   "outputs": [],
   "source": [
    "df2_irfc=pd.read_csv('irfc_data/01-02-2022-TO-01-02-2023-IRFC-EQ-N.csv')"
   ]
  },
  {
   "cell_type": "code",
   "execution_count": 36,
   "id": "465d92d5-ac5c-48ec-9e51-4e937150d1c6",
   "metadata": {},
   "outputs": [],
   "source": [
    "df3_irfc=pd.read_csv('irfc_data/01-02-2023-TO-01-02-2024-IRFC-EQ-N.csv')"
   ]
  },
  {
   "cell_type": "code",
   "execution_count": 37,
   "id": "bdb8af92-e309-43a7-a19e-887b2b5146e7",
   "metadata": {},
   "outputs": [],
   "source": [
    "df4_irfc=pd.read_csv('irfc_data/01-02-2024-TO-01-11-2024-IRFC-EQ-N.csv')"
   ]
  },
  {
   "cell_type": "code",
   "execution_count": null,
   "id": "93dc073e-c807-4770-a931-3f1f7945c010",
   "metadata": {},
   "outputs": [],
   "source": [
    "skipper_combined = pd.concat([df1_skipper,df2_skipper,df3_skipper,df4_skipper], ignore_index=True)\n",
    "print(\"Combined DataFrame:\")"
   ]
  },
  {
   "cell_type": "code",
   "execution_count": 38,
   "id": "1edc1894-98e2-4b58-b816-b8468c9ffd72",
   "metadata": {},
   "outputs": [
    {
     "name": "stdout",
     "output_type": "stream",
     "text": [
      "Combined DataFrame:\n"
     ]
    }
   ],
   "source": [
    "irfc_combined = pd.concat([df1_irfc,df2_irfc,df3_irfc,df4_irfc], ignore_index=True)\n",
    "print(\"Combined DataFrame:\")"
   ]
  },
  {
   "cell_type": "code",
   "execution_count": null,
   "id": "1cdfa044-bd9e-45b9-b15e-ee2e447c7262",
   "metadata": {},
   "outputs": [],
   "source": []
  },
  {
   "cell_type": "code",
   "execution_count": 27,
   "id": "0542b19f-fe03-4a5a-ad77-ff8d4295da61",
   "metadata": {},
   "outputs": [
    {
     "data": {
      "text/plain": [
       "(935, 15)"
      ]
     },
     "execution_count": 27,
     "metadata": {},
     "output_type": "execute_result"
    }
   ],
   "source": [
    "skipper_combined.shape"
   ]
  },
  {
   "cell_type": "code",
   "execution_count": 39,
   "id": "a12373c7-7d2e-44a6-8df4-ad032be62c7c",
   "metadata": {},
   "outputs": [
    {
     "data": {
      "text/plain": [
       "(935, 15)"
      ]
     },
     "execution_count": 39,
     "metadata": {},
     "output_type": "execute_result"
    }
   ],
   "source": [
    "irfc_combined.shape"
   ]
  },
  {
   "cell_type": "code",
   "execution_count": 42,
   "id": "aa73a4c2-4950-4494-b39f-cfe7314b525e",
   "metadata": {},
   "outputs": [
    {
     "name": "stdout",
     "output_type": "stream",
     "text": [
      "\n",
      "Duplicate Rows:\n",
      "    Symbol   Series         Date    Prev Close    Open Price    High Price    \\\n",
      "249  SKIPPER       EQ  01-Feb-2022         73.20         73.50          73.8   \n",
      "499  SKIPPER       EQ  01-Feb-2023        109.25        110.70         115.8   \n",
      "747  SKIPPER       EQ  01-Feb-2024        271.40        275.05         302.7   \n",
      "\n",
      "     Low Price    Last Price    Close Price    Average Price   \\\n",
      "249        71.85          72.1          72.10           72.54   \n",
      "499       105.65         107.0         107.45          112.62   \n",
      "747       275.05         294.9         296.00          289.24   \n",
      "\n",
      "    Total Traded Quantity         Turnover ₹   No. of Trades    \\\n",
      "249                1,56,157     1,13,27,142.20           1,027   \n",
      "499                4,13,084     4,65,22,496.55           5,625   \n",
      "747               39,90,249  1,15,41,29,788.15        1,01,815   \n",
      "\n",
      "    Deliverable Qty    % Dly Qt to Traded Qty    \n",
      "249          1,36,026                     87.11  \n",
      "499          1,54,996                     37.52  \n",
      "747         11,18,798                     28.04  \n"
     ]
    }
   ],
   "source": [
    "# Find duplicate rows\n",
    "duplicate_rows_skipper = skipper_combined[skipper_combined.duplicated()]\n",
    "\n",
    "print(\"\\nDuplicate Rows:\")\n",
    "print(duplicate_rows)\n",
    "\n",
    "\n"
   ]
  },
  {
   "cell_type": "code",
   "execution_count": 43,
   "id": "f0a6712b-b04a-48c4-9a62-e9eb1c860f01",
   "metadata": {},
   "outputs": [
    {
     "name": "stdout",
     "output_type": "stream",
     "text": [
      "\n",
      "Duplicate Rows:\n",
      "    Symbol   Series         Date    Prev Close    Open Price    High Price    \\\n",
      "249  SKIPPER       EQ  01-Feb-2022         73.20         73.50          73.8   \n",
      "499  SKIPPER       EQ  01-Feb-2023        109.25        110.70         115.8   \n",
      "747  SKIPPER       EQ  01-Feb-2024        271.40        275.05         302.7   \n",
      "\n",
      "     Low Price    Last Price    Close Price    Average Price   \\\n",
      "249        71.85          72.1          72.10           72.54   \n",
      "499       105.65         107.0         107.45          112.62   \n",
      "747       275.05         294.9         296.00          289.24   \n",
      "\n",
      "    Total Traded Quantity         Turnover ₹   No. of Trades    \\\n",
      "249                1,56,157     1,13,27,142.20           1,027   \n",
      "499                4,13,084     4,65,22,496.55           5,625   \n",
      "747               39,90,249  1,15,41,29,788.15        1,01,815   \n",
      "\n",
      "    Deliverable Qty    % Dly Qt to Traded Qty    \n",
      "249          1,36,026                     87.11  \n",
      "499          1,54,996                     37.52  \n",
      "747         11,18,798                     28.04  \n"
     ]
    }
   ],
   "source": [
    "# Find duplicate rows\n",
    "duplicate_rows_irfc = irfc_combined[irfc_combined.duplicated()]\n",
    "\n",
    "print(\"\\nDuplicate Rows:\")\n",
    "print(duplicate_rows)\n",
    "\n",
    "\n"
   ]
  },
  {
   "cell_type": "code",
   "execution_count": 29,
   "id": "a0051dc3-e5db-4acd-a052-d46dd9edcb79",
   "metadata": {},
   "outputs": [],
   "source": [
    "# Remove duplicate rows\n",
    "skipper_no_duplicates = skipper_combined.drop_duplicates()"
   ]
  },
  {
   "cell_type": "code",
   "execution_count": 44,
   "id": "34236287-c1e0-4d57-920b-e546ed1d9df2",
   "metadata": {},
   "outputs": [],
   "source": [
    "# Remove duplicate rows\n",
    "irfc_no_duplicates = irfc_combined.drop_duplicates()"
   ]
  },
  {
   "cell_type": "code",
   "execution_count": null,
   "id": "025c473f-c138-403f-92be-677880db563e",
   "metadata": {},
   "outputs": [],
   "source": []
  },
  {
   "cell_type": "code",
   "execution_count": 30,
   "id": "6947fb0a-2289-4572-83dc-2962323faeef",
   "metadata": {},
   "outputs": [
    {
     "data": {
      "text/plain": [
       "0"
      ]
     },
     "execution_count": 30,
     "metadata": {},
     "output_type": "execute_result"
    }
   ],
   "source": [
    "skipper_no_duplicates.duplicated().sum()"
   ]
  },
  {
   "cell_type": "code",
   "execution_count": 45,
   "id": "fbbbd245-7a1f-49e1-a1de-5c47e315817d",
   "metadata": {},
   "outputs": [
    {
     "data": {
      "text/plain": [
       "0"
      ]
     },
     "execution_count": 45,
     "metadata": {},
     "output_type": "execute_result"
    }
   ],
   "source": [
    "irfc_no_duplicates.duplicated().sum()"
   ]
  },
  {
   "cell_type": "code",
   "execution_count": 31,
   "id": "b514b000-f7ec-4f2d-81f4-483681979c6c",
   "metadata": {},
   "outputs": [
    {
     "data": {
      "text/plain": [
       "(932, 15)"
      ]
     },
     "execution_count": 31,
     "metadata": {},
     "output_type": "execute_result"
    }
   ],
   "source": [
    "skipper_no_duplicates.shape"
   ]
  },
  {
   "cell_type": "code",
   "execution_count": 46,
   "id": "a0627331-e291-47ca-92f1-c5ef38014410",
   "metadata": {},
   "outputs": [
    {
     "data": {
      "text/plain": [
       "(932, 15)"
      ]
     },
     "execution_count": 46,
     "metadata": {},
     "output_type": "execute_result"
    }
   ],
   "source": [
    "irfc_no_duplicates.shape"
   ]
  },
  {
   "cell_type": "code",
   "execution_count": 2,
   "id": "1e145d93-2cc5-4eae-ae0d-c899f6559ce4",
   "metadata": {},
   "outputs": [],
   "source": [
    "# load stock price data"
   ]
  },
  {
   "cell_type": "code",
   "execution_count": 2,
   "id": "52458ed1-912b-4ec8-96b5-d4eb43c2fb49",
   "metadata": {},
   "outputs": [],
   "source": [
    "# load stock price data"
   ]
  },
  {
   "cell_type": "code",
   "execution_count": 47,
   "id": "5c3354b6-f37c-4934-9e74-d09e8848cebb",
   "metadata": {},
   "outputs": [],
   "source": [
    "irfc_data=irfc_no_duplicates"
   ]
  },
  {
   "cell_type": "code",
   "execution_count": 48,
   "id": "50f3b0f5-f0c2-4d11-b95d-b9bd4c5e1233",
   "metadata": {},
   "outputs": [],
   "source": [
    "skipper_data=skipper_no_duplicates"
   ]
  },
  {
   "cell_type": "code",
   "execution_count": 49,
   "id": "30b68c59-d2c8-429a-8431-a15339e578b1",
   "metadata": {},
   "outputs": [],
   "source": [
    "stock1 = irfc_data"
   ]
  },
  {
   "cell_type": "code",
   "execution_count": 50,
   "id": "6bcbe81b-c1b1-4fd9-8afc-ddd9acfb0e46",
   "metadata": {},
   "outputs": [],
   "source": [
    "stock2 = skipper_data"
   ]
  },
  {
   "cell_type": "code",
   "execution_count": 51,
   "id": "cd6eed12-6545-4415-aa21-2d3030d3ea3b",
   "metadata": {},
   "outputs": [
    {
     "data": {
      "text/html": [
       "<div>\n",
       "<style scoped>\n",
       "    .dataframe tbody tr th:only-of-type {\n",
       "        vertical-align: middle;\n",
       "    }\n",
       "\n",
       "    .dataframe tbody tr th {\n",
       "        vertical-align: top;\n",
       "    }\n",
       "\n",
       "    .dataframe thead th {\n",
       "        text-align: right;\n",
       "    }\n",
       "</style>\n",
       "<table border=\"1\" class=\"dataframe\">\n",
       "  <thead>\n",
       "    <tr style=\"text-align: right;\">\n",
       "      <th></th>\n",
       "      <th>Symbol</th>\n",
       "      <th>Series</th>\n",
       "      <th>Date</th>\n",
       "      <th>Prev Close</th>\n",
       "      <th>Open Price</th>\n",
       "      <th>High Price</th>\n",
       "      <th>Low Price</th>\n",
       "      <th>Last Price</th>\n",
       "      <th>Close Price</th>\n",
       "      <th>Average Price</th>\n",
       "      <th>Total Traded Quantity</th>\n",
       "      <th>Turnover ₹</th>\n",
       "      <th>No. of Trades</th>\n",
       "      <th>Deliverable Qty</th>\n",
       "      <th>% Dly Qt to Traded Qty</th>\n",
       "    </tr>\n",
       "  </thead>\n",
       "  <tbody>\n",
       "    <tr>\n",
       "      <th>0</th>\n",
       "      <td>IRFC</td>\n",
       "      <td>EQ</td>\n",
       "      <td>01-Feb-2021</td>\n",
       "      <td>24.80</td>\n",
       "      <td>25.25</td>\n",
       "      <td>25.40</td>\n",
       "      <td>24.90</td>\n",
       "      <td>25.15</td>\n",
       "      <td>25.10</td>\n",
       "      <td>25.13</td>\n",
       "      <td>7,20,44,464</td>\n",
       "      <td>1,81,03,81,538.70</td>\n",
       "      <td>1,53,055</td>\n",
       "      <td>3,64,16,301</td>\n",
       "      <td>50.55</td>\n",
       "    </tr>\n",
       "    <tr>\n",
       "      <th>1</th>\n",
       "      <td>IRFC</td>\n",
       "      <td>EQ</td>\n",
       "      <td>02-Feb-2021</td>\n",
       "      <td>25.10</td>\n",
       "      <td>25.45</td>\n",
       "      <td>25.45</td>\n",
       "      <td>24.70</td>\n",
       "      <td>24.80</td>\n",
       "      <td>24.75</td>\n",
       "      <td>24.98</td>\n",
       "      <td>3,67,35,442</td>\n",
       "      <td>91,76,39,637.40</td>\n",
       "      <td>1,02,457</td>\n",
       "      <td>2,32,49,201</td>\n",
       "      <td>63.29</td>\n",
       "    </tr>\n",
       "    <tr>\n",
       "      <th>2</th>\n",
       "      <td>IRFC</td>\n",
       "      <td>EQ</td>\n",
       "      <td>03-Feb-2021</td>\n",
       "      <td>24.75</td>\n",
       "      <td>24.80</td>\n",
       "      <td>24.90</td>\n",
       "      <td>24.05</td>\n",
       "      <td>24.15</td>\n",
       "      <td>24.25</td>\n",
       "      <td>24.58</td>\n",
       "      <td>4,58,16,269</td>\n",
       "      <td>1,12,61,59,280.60</td>\n",
       "      <td>1,05,660</td>\n",
       "      <td>2,72,43,985</td>\n",
       "      <td>59.46</td>\n",
       "    </tr>\n",
       "    <tr>\n",
       "      <th>3</th>\n",
       "      <td>IRFC</td>\n",
       "      <td>EQ</td>\n",
       "      <td>04-Feb-2021</td>\n",
       "      <td>24.25</td>\n",
       "      <td>24.25</td>\n",
       "      <td>25.80</td>\n",
       "      <td>23.85</td>\n",
       "      <td>25.30</td>\n",
       "      <td>25.35</td>\n",
       "      <td>25.08</td>\n",
       "      <td>8,84,86,029</td>\n",
       "      <td>2,21,94,40,702.60</td>\n",
       "      <td>1,35,657</td>\n",
       "      <td>3,45,71,420</td>\n",
       "      <td>39.07</td>\n",
       "    </tr>\n",
       "    <tr>\n",
       "      <th>4</th>\n",
       "      <td>IRFC</td>\n",
       "      <td>EQ</td>\n",
       "      <td>05-Feb-2021</td>\n",
       "      <td>25.35</td>\n",
       "      <td>25.60</td>\n",
       "      <td>26.20</td>\n",
       "      <td>25.55</td>\n",
       "      <td>25.65</td>\n",
       "      <td>25.70</td>\n",
       "      <td>25.80</td>\n",
       "      <td>5,63,18,695</td>\n",
       "      <td>1,45,31,81,398.90</td>\n",
       "      <td>95,724</td>\n",
       "      <td>2,57,12,230</td>\n",
       "      <td>45.65</td>\n",
       "    </tr>\n",
       "  </tbody>\n",
       "</table>\n",
       "</div>"
      ],
      "text/plain": [
       "  Symbol   Series         Date    Prev Close    Open Price    High Price    \\\n",
       "0     IRFC       EQ  01-Feb-2021         24.80         25.25         25.40   \n",
       "1     IRFC       EQ  02-Feb-2021         25.10         25.45         25.45   \n",
       "2     IRFC       EQ  03-Feb-2021         24.75         24.80         24.90   \n",
       "3     IRFC       EQ  04-Feb-2021         24.25         24.25         25.80   \n",
       "4     IRFC       EQ  05-Feb-2021         25.35         25.60         26.20   \n",
       "\n",
       "   Low Price    Last Price    Close Price    Average Price   \\\n",
       "0        24.90         25.15          25.10           25.13   \n",
       "1        24.70         24.80          24.75           24.98   \n",
       "2        24.05         24.15          24.25           24.58   \n",
       "3        23.85         25.30          25.35           25.08   \n",
       "4        25.55         25.65          25.70           25.80   \n",
       "\n",
       "  Total Traded Quantity         Turnover ₹   No. of Trades    \\\n",
       "0             7,20,44,464  1,81,03,81,538.70        1,53,055   \n",
       "1             3,67,35,442    91,76,39,637.40        1,02,457   \n",
       "2             4,58,16,269  1,12,61,59,280.60        1,05,660   \n",
       "3             8,84,86,029  2,21,94,40,702.60        1,35,657   \n",
       "4             5,63,18,695  1,45,31,81,398.90          95,724   \n",
       "\n",
       "  Deliverable Qty    % Dly Qt to Traded Qty    \n",
       "0       3,64,16,301                     50.55  \n",
       "1       2,32,49,201                     63.29  \n",
       "2       2,72,43,985                     59.46  \n",
       "3       3,45,71,420                     39.07  \n",
       "4       2,57,12,230                     45.65  "
      ]
     },
     "execution_count": 51,
     "metadata": {},
     "output_type": "execute_result"
    }
   ],
   "source": [
    "stock1.head()"
   ]
  },
  {
   "cell_type": "code",
   "execution_count": 52,
   "id": "fb58dc56-3be6-4a28-8531-ee9b599e9359",
   "metadata": {},
   "outputs": [
    {
     "data": {
      "text/html": [
       "<div>\n",
       "<style scoped>\n",
       "    .dataframe tbody tr th:only-of-type {\n",
       "        vertical-align: middle;\n",
       "    }\n",
       "\n",
       "    .dataframe tbody tr th {\n",
       "        vertical-align: top;\n",
       "    }\n",
       "\n",
       "    .dataframe thead th {\n",
       "        text-align: right;\n",
       "    }\n",
       "</style>\n",
       "<table border=\"1\" class=\"dataframe\">\n",
       "  <thead>\n",
       "    <tr style=\"text-align: right;\">\n",
       "      <th></th>\n",
       "      <th>Symbol</th>\n",
       "      <th>Series</th>\n",
       "      <th>Date</th>\n",
       "      <th>Prev Close</th>\n",
       "      <th>Open Price</th>\n",
       "      <th>High Price</th>\n",
       "      <th>Low Price</th>\n",
       "      <th>Last Price</th>\n",
       "      <th>Close Price</th>\n",
       "      <th>Average Price</th>\n",
       "      <th>Total Traded Quantity</th>\n",
       "      <th>Turnover ₹</th>\n",
       "      <th>No. of Trades</th>\n",
       "      <th>Deliverable Qty</th>\n",
       "      <th>% Dly Qt to Traded Qty</th>\n",
       "    </tr>\n",
       "  </thead>\n",
       "  <tbody>\n",
       "    <tr>\n",
       "      <th>0</th>\n",
       "      <td>SKIPPER</td>\n",
       "      <td>EQ</td>\n",
       "      <td>01-Feb-2021</td>\n",
       "      <td>60.05</td>\n",
       "      <td>60.25</td>\n",
       "      <td>63.60</td>\n",
       "      <td>58.5</td>\n",
       "      <td>62.40</td>\n",
       "      <td>62.25</td>\n",
       "      <td>61.00</td>\n",
       "      <td>50,790</td>\n",
       "      <td>30,98,137.25</td>\n",
       "      <td>819</td>\n",
       "      <td>22,964</td>\n",
       "      <td>45.21</td>\n",
       "    </tr>\n",
       "    <tr>\n",
       "      <th>1</th>\n",
       "      <td>SKIPPER</td>\n",
       "      <td>EQ</td>\n",
       "      <td>02-Feb-2021</td>\n",
       "      <td>62.25</td>\n",
       "      <td>62.70</td>\n",
       "      <td>63.95</td>\n",
       "      <td>62.2</td>\n",
       "      <td>62.70</td>\n",
       "      <td>62.85</td>\n",
       "      <td>62.85</td>\n",
       "      <td>47,894</td>\n",
       "      <td>30,10,103.10</td>\n",
       "      <td>568</td>\n",
       "      <td>30,416</td>\n",
       "      <td>63.51</td>\n",
       "    </tr>\n",
       "    <tr>\n",
       "      <th>2</th>\n",
       "      <td>SKIPPER</td>\n",
       "      <td>EQ</td>\n",
       "      <td>03-Feb-2021</td>\n",
       "      <td>62.85</td>\n",
       "      <td>63.05</td>\n",
       "      <td>64.10</td>\n",
       "      <td>62.4</td>\n",
       "      <td>63.50</td>\n",
       "      <td>63.45</td>\n",
       "      <td>63.35</td>\n",
       "      <td>38,995</td>\n",
       "      <td>24,70,378.40</td>\n",
       "      <td>763</td>\n",
       "      <td>22,911</td>\n",
       "      <td>58.75</td>\n",
       "    </tr>\n",
       "    <tr>\n",
       "      <th>3</th>\n",
       "      <td>SKIPPER</td>\n",
       "      <td>EQ</td>\n",
       "      <td>04-Feb-2021</td>\n",
       "      <td>63.45</td>\n",
       "      <td>63.00</td>\n",
       "      <td>65.95</td>\n",
       "      <td>62.7</td>\n",
       "      <td>65.65</td>\n",
       "      <td>65.35</td>\n",
       "      <td>65.04</td>\n",
       "      <td>62,278</td>\n",
       "      <td>40,50,731.90</td>\n",
       "      <td>974</td>\n",
       "      <td>28,273</td>\n",
       "      <td>45.40</td>\n",
       "    </tr>\n",
       "    <tr>\n",
       "      <th>4</th>\n",
       "      <td>SKIPPER</td>\n",
       "      <td>EQ</td>\n",
       "      <td>05-Feb-2021</td>\n",
       "      <td>65.35</td>\n",
       "      <td>67.00</td>\n",
       "      <td>67.20</td>\n",
       "      <td>64.5</td>\n",
       "      <td>65.55</td>\n",
       "      <td>65.10</td>\n",
       "      <td>65.70</td>\n",
       "      <td>50,664</td>\n",
       "      <td>33,28,599.85</td>\n",
       "      <td>646</td>\n",
       "      <td>31,614</td>\n",
       "      <td>62.40</td>\n",
       "    </tr>\n",
       "  </tbody>\n",
       "</table>\n",
       "</div>"
      ],
      "text/plain": [
       "  Symbol   Series         Date    Prev Close    Open Price    High Price    \\\n",
       "0  SKIPPER       EQ  01-Feb-2021         60.05         60.25         63.60   \n",
       "1  SKIPPER       EQ  02-Feb-2021         62.25         62.70         63.95   \n",
       "2  SKIPPER       EQ  03-Feb-2021         62.85         63.05         64.10   \n",
       "3  SKIPPER       EQ  04-Feb-2021         63.45         63.00         65.95   \n",
       "4  SKIPPER       EQ  05-Feb-2021         65.35         67.00         67.20   \n",
       "\n",
       "   Low Price    Last Price    Close Price    Average Price   \\\n",
       "0         58.5         62.40          62.25           61.00   \n",
       "1         62.2         62.70          62.85           62.85   \n",
       "2         62.4         63.50          63.45           63.35   \n",
       "3         62.7         65.65          65.35           65.04   \n",
       "4         64.5         65.55          65.10           65.70   \n",
       "\n",
       "  Total Traded Quantity    Turnover ₹   No. of Trades   Deliverable Qty    \\\n",
       "0                  50,790  30,98,137.25             819            22,964   \n",
       "1                  47,894  30,10,103.10             568            30,416   \n",
       "2                  38,995  24,70,378.40             763            22,911   \n",
       "3                  62,278  40,50,731.90             974            28,273   \n",
       "4                  50,664  33,28,599.85             646            31,614   \n",
       "\n",
       "   % Dly Qt to Traded Qty    \n",
       "0                     45.21  \n",
       "1                     63.51  \n",
       "2                     58.75  \n",
       "3                     45.40  \n",
       "4                     62.40  "
      ]
     },
     "execution_count": 52,
     "metadata": {},
     "output_type": "execute_result"
    }
   ],
   "source": [
    "stock2.head()"
   ]
  },
  {
   "cell_type": "code",
   "execution_count": 53,
   "id": "c4d71a52-844c-476f-91fb-7b49b8ca14d8",
   "metadata": {},
   "outputs": [
    {
     "data": {
      "text/plain": [
       "Index(['Symbol  ', 'Series  ', 'Date  ', 'Prev Close  ', 'Open Price  ',\n",
       "       'High Price  ', 'Low Price  ', 'Last Price  ', 'Close Price  ',\n",
       "       'Average Price ', 'Total Traded Quantity  ', 'Turnover ₹  ',\n",
       "       'No. of Trades  ', 'Deliverable Qty  ', '% Dly Qt to Traded Qty  '],\n",
       "      dtype='object')"
      ]
     },
     "execution_count": 53,
     "metadata": {},
     "output_type": "execute_result"
    }
   ],
   "source": [
    "stock1.columns"
   ]
  },
  {
   "cell_type": "code",
   "execution_count": 54,
   "id": "8354a0c6-fb6e-407f-a231-aabf4e23caaf",
   "metadata": {},
   "outputs": [
    {
     "data": {
      "text/plain": [
       "Index(['Symbol  ', 'Series  ', 'Date  ', 'Prev Close  ', 'Open Price  ',\n",
       "       'High Price  ', 'Low Price  ', 'Last Price  ', 'Close Price  ',\n",
       "       'Average Price ', 'Total Traded Quantity  ', 'Turnover ₹  ',\n",
       "       'No. of Trades  ', 'Deliverable Qty  ', '% Dly Qt to Traded Qty  '],\n",
       "      dtype='object')"
      ]
     },
     "execution_count": 54,
     "metadata": {},
     "output_type": "execute_result"
    }
   ],
   "source": [
    "stock2.columns"
   ]
  },
  {
   "cell_type": "code",
   "execution_count": 55,
   "id": "123af053-c6ce-4798-8774-1e1dc79c1e9d",
   "metadata": {},
   "outputs": [
    {
     "data": {
      "text/plain": [
       "(932, 15)"
      ]
     },
     "execution_count": 55,
     "metadata": {},
     "output_type": "execute_result"
    }
   ],
   "source": [
    "stock1.shape"
   ]
  },
  {
   "cell_type": "code",
   "execution_count": 56,
   "id": "9ab40c93-bbe4-4e1b-998a-89ba21c7f060",
   "metadata": {},
   "outputs": [
    {
     "data": {
      "text/plain": [
       "(932, 15)"
      ]
     },
     "execution_count": 56,
     "metadata": {},
     "output_type": "execute_result"
    }
   ],
   "source": [
    "stock2.shape"
   ]
  },
  {
   "cell_type": "code",
   "execution_count": 57,
   "id": "234da732-7573-42b8-be30-69c1ef5fbb6f",
   "metadata": {},
   "outputs": [],
   "source": [
    " "
   ]
  },
  {
   "cell_type": "code",
   "execution_count": 58,
   "id": "95c1739e-fa63-4c8f-8c96-9fe30ecf2559",
   "metadata": {},
   "outputs": [
    {
     "data": {
      "text/plain": [
       "Index(['Symbol  ', 'Series  ', 'Date  ', 'Prev Close  ', 'Open Price  ',\n",
       "       'High Price  ', 'Low Price  ', 'Last Price  ', 'Close Price  ',\n",
       "       'Average Price ', 'Total Traded Quantity  ', 'Turnover ₹  ',\n",
       "       'No. of Trades  ', 'Deliverable Qty  ', '% Dly Qt to Traded Qty  '],\n",
       "      dtype='object')"
      ]
     },
     "execution_count": 58,
     "metadata": {},
     "output_type": "execute_result"
    }
   ],
   "source": [
    "stock1.columns "
   ]
  },
  {
   "cell_type": "code",
   "execution_count": 59,
   "id": "151c6e94-8159-4a0e-a85c-fe71b848d19a",
   "metadata": {},
   "outputs": [],
   "source": [
    "stock1.columns = new_column_names"
   ]
  },
  {
   "cell_type": "code",
   "execution_count": 60,
   "id": "9f08b44a-63f7-4b7d-ad12-ef12a7b2d86b",
   "metadata": {},
   "outputs": [],
   "source": [
    "stock2.columns = new_column_names"
   ]
  },
  {
   "cell_type": "code",
   "execution_count": 61,
   "id": "9039152e-d116-4382-a0a3-16987abf830e",
   "metadata": {},
   "outputs": [
    {
     "data": {
      "text/plain": [
       "Index(['Symbol', 'Series', 'Date', 'Prev_Close', 'Open_Price', 'High_Price',\n",
       "       'Low_Price', 'Last_Price', 'Close_Price', 'Average_Price ',\n",
       "       'Total_Traded_Quantity', 'Turnover₹', 'No._of_Trades',\n",
       "       'Deliverable_Qty', '% Dly Qt to Traded Qty '],\n",
       "      dtype='object')"
      ]
     },
     "execution_count": 61,
     "metadata": {},
     "output_type": "execute_result"
    }
   ],
   "source": [
    "stock1.columns"
   ]
  },
  {
   "cell_type": "code",
   "execution_count": 62,
   "id": "58e793ca-4518-4c68-aa1b-bd620361e6ac",
   "metadata": {},
   "outputs": [
    {
     "data": {
      "text/plain": [
       "Index(['Symbol', 'Series', 'Date', 'Prev_Close', 'Open_Price', 'High_Price',\n",
       "       'Low_Price', 'Last_Price', 'Close_Price', 'Average_Price ',\n",
       "       'Total_Traded_Quantity', 'Turnover₹', 'No._of_Trades',\n",
       "       'Deliverable_Qty', '% Dly Qt to Traded Qty '],\n",
       "      dtype='object')"
      ]
     },
     "execution_count": 62,
     "metadata": {},
     "output_type": "execute_result"
    }
   ],
   "source": [
    "stock2.columns"
   ]
  },
  {
   "cell_type": "code",
   "execution_count": 63,
   "id": "bcf23fe4-b42a-4a58-82e6-7eebf646a7cf",
   "metadata": {},
   "outputs": [
    {
     "data": {
      "text/plain": [
       "array(['EQ'], dtype=object)"
      ]
     },
     "execution_count": 63,
     "metadata": {},
     "output_type": "execute_result"
    }
   ],
   "source": [
    "stock1['Series'].unique()"
   ]
  },
  {
   "cell_type": "code",
   "execution_count": 64,
   "id": "7564826a-300e-4c7a-8fd9-4a922980ebee",
   "metadata": {},
   "outputs": [
    {
     "data": {
      "text/plain": [
       "array(['EQ'], dtype=object)"
      ]
     },
     "execution_count": 64,
     "metadata": {},
     "output_type": "execute_result"
    }
   ],
   "source": [
    "stock2['Series'].unique()"
   ]
  },
  {
   "cell_type": "code",
   "execution_count": 65,
   "id": "780fffb1-8ae1-4ae2-9f73-c0ba601054a3",
   "metadata": {},
   "outputs": [],
   "source": [
    "new_df_s1=stock1[['Symbol','Date','Open_Price']]"
   ]
  },
  {
   "cell_type": "code",
   "execution_count": 68,
   "id": "c5d6874b-2145-43d4-8cb6-42ca2c1ad4d4",
   "metadata": {},
   "outputs": [],
   "source": [
    "new_df_s2=stock2[['Symbol','Date','Open_Price']]"
   ]
  },
  {
   "cell_type": "code",
   "execution_count": 67,
   "id": "56877eae-06a1-4479-89a6-fc68f8192115",
   "metadata": {},
   "outputs": [
    {
     "data": {
      "text/html": [
       "<div>\n",
       "<style scoped>\n",
       "    .dataframe tbody tr th:only-of-type {\n",
       "        vertical-align: middle;\n",
       "    }\n",
       "\n",
       "    .dataframe tbody tr th {\n",
       "        vertical-align: top;\n",
       "    }\n",
       "\n",
       "    .dataframe thead th {\n",
       "        text-align: right;\n",
       "    }\n",
       "</style>\n",
       "<table border=\"1\" class=\"dataframe\">\n",
       "  <thead>\n",
       "    <tr style=\"text-align: right;\">\n",
       "      <th></th>\n",
       "      <th>Symbol</th>\n",
       "      <th>Date</th>\n",
       "      <th>Open_Price</th>\n",
       "    </tr>\n",
       "  </thead>\n",
       "  <tbody>\n",
       "    <tr>\n",
       "      <th>0</th>\n",
       "      <td>IRFC</td>\n",
       "      <td>01-Feb-2021</td>\n",
       "      <td>25.25</td>\n",
       "    </tr>\n",
       "    <tr>\n",
       "      <th>1</th>\n",
       "      <td>IRFC</td>\n",
       "      <td>02-Feb-2021</td>\n",
       "      <td>25.45</td>\n",
       "    </tr>\n",
       "    <tr>\n",
       "      <th>2</th>\n",
       "      <td>IRFC</td>\n",
       "      <td>03-Feb-2021</td>\n",
       "      <td>24.80</td>\n",
       "    </tr>\n",
       "    <tr>\n",
       "      <th>3</th>\n",
       "      <td>IRFC</td>\n",
       "      <td>04-Feb-2021</td>\n",
       "      <td>24.25</td>\n",
       "    </tr>\n",
       "    <tr>\n",
       "      <th>4</th>\n",
       "      <td>IRFC</td>\n",
       "      <td>05-Feb-2021</td>\n",
       "      <td>25.60</td>\n",
       "    </tr>\n",
       "  </tbody>\n",
       "</table>\n",
       "</div>"
      ],
      "text/plain": [
       "  Symbol         Date  Open_Price\n",
       "0   IRFC  01-Feb-2021       25.25\n",
       "1   IRFC  02-Feb-2021       25.45\n",
       "2   IRFC  03-Feb-2021       24.80\n",
       "3   IRFC  04-Feb-2021       24.25\n",
       "4   IRFC  05-Feb-2021       25.60"
      ]
     },
     "execution_count": 67,
     "metadata": {},
     "output_type": "execute_result"
    }
   ],
   "source": [
    "new_df_s1.head()"
   ]
  },
  {
   "cell_type": "code",
   "execution_count": 69,
   "id": "2a6d839b-96e8-4625-a400-ff5a22af56e1",
   "metadata": {},
   "outputs": [
    {
     "data": {
      "text/html": [
       "<div>\n",
       "<style scoped>\n",
       "    .dataframe tbody tr th:only-of-type {\n",
       "        vertical-align: middle;\n",
       "    }\n",
       "\n",
       "    .dataframe tbody tr th {\n",
       "        vertical-align: top;\n",
       "    }\n",
       "\n",
       "    .dataframe thead th {\n",
       "        text-align: right;\n",
       "    }\n",
       "</style>\n",
       "<table border=\"1\" class=\"dataframe\">\n",
       "  <thead>\n",
       "    <tr style=\"text-align: right;\">\n",
       "      <th></th>\n",
       "      <th>Symbol</th>\n",
       "      <th>Date</th>\n",
       "      <th>Open_Price</th>\n",
       "    </tr>\n",
       "  </thead>\n",
       "  <tbody>\n",
       "    <tr>\n",
       "      <th>0</th>\n",
       "      <td>SKIPPER</td>\n",
       "      <td>01-Feb-2021</td>\n",
       "      <td>60.25</td>\n",
       "    </tr>\n",
       "    <tr>\n",
       "      <th>1</th>\n",
       "      <td>SKIPPER</td>\n",
       "      <td>02-Feb-2021</td>\n",
       "      <td>62.70</td>\n",
       "    </tr>\n",
       "    <tr>\n",
       "      <th>2</th>\n",
       "      <td>SKIPPER</td>\n",
       "      <td>03-Feb-2021</td>\n",
       "      <td>63.05</td>\n",
       "    </tr>\n",
       "    <tr>\n",
       "      <th>3</th>\n",
       "      <td>SKIPPER</td>\n",
       "      <td>04-Feb-2021</td>\n",
       "      <td>63.00</td>\n",
       "    </tr>\n",
       "    <tr>\n",
       "      <th>4</th>\n",
       "      <td>SKIPPER</td>\n",
       "      <td>05-Feb-2021</td>\n",
       "      <td>67.00</td>\n",
       "    </tr>\n",
       "  </tbody>\n",
       "</table>\n",
       "</div>"
      ],
      "text/plain": [
       "    Symbol         Date  Open_Price\n",
       "0  SKIPPER  01-Feb-2021       60.25\n",
       "1  SKIPPER  02-Feb-2021       62.70\n",
       "2  SKIPPER  03-Feb-2021       63.05\n",
       "3  SKIPPER  04-Feb-2021       63.00\n",
       "4  SKIPPER  05-Feb-2021       67.00"
      ]
     },
     "execution_count": 69,
     "metadata": {},
     "output_type": "execute_result"
    }
   ],
   "source": [
    "new_df_s2.head()"
   ]
  },
  {
   "cell_type": "code",
   "execution_count": 70,
   "id": "d02a1b13-a6fe-4cd9-a052-2e1f31d858a5",
   "metadata": {},
   "outputs": [],
   "source": [
    "#copy data frame for converting into date time series"
   ]
  },
  {
   "cell_type": "code",
   "execution_count": 73,
   "id": "837ba020-f319-4328-acc1-b681b4ef90a5",
   "metadata": {},
   "outputs": [],
   "source": [
    "# Copy the DataFrame\n",
    "stock1_copy = new_df_s1.copy()"
   ]
  },
  {
   "cell_type": "code",
   "execution_count": 75,
   "id": "ac4f26fb-7195-41c6-8d5b-6c045418758e",
   "metadata": {},
   "outputs": [],
   "source": [
    "# Copy the DataFrame\n",
    "stock2_copy = new_df_s2.copy()"
   ]
  },
  {
   "cell_type": "code",
   "execution_count": 74,
   "id": "fad0b468-b180-4783-8591-2a3535534b9c",
   "metadata": {},
   "outputs": [
    {
     "data": {
      "text/html": [
       "<div>\n",
       "<style scoped>\n",
       "    .dataframe tbody tr th:only-of-type {\n",
       "        vertical-align: middle;\n",
       "    }\n",
       "\n",
       "    .dataframe tbody tr th {\n",
       "        vertical-align: top;\n",
       "    }\n",
       "\n",
       "    .dataframe thead th {\n",
       "        text-align: right;\n",
       "    }\n",
       "</style>\n",
       "<table border=\"1\" class=\"dataframe\">\n",
       "  <thead>\n",
       "    <tr style=\"text-align: right;\">\n",
       "      <th></th>\n",
       "      <th>Symbol</th>\n",
       "      <th>Date</th>\n",
       "      <th>Open_Price</th>\n",
       "    </tr>\n",
       "  </thead>\n",
       "  <tbody>\n",
       "    <tr>\n",
       "      <th>0</th>\n",
       "      <td>IRFC</td>\n",
       "      <td>01-Feb-2021</td>\n",
       "      <td>25.25</td>\n",
       "    </tr>\n",
       "    <tr>\n",
       "      <th>1</th>\n",
       "      <td>IRFC</td>\n",
       "      <td>02-Feb-2021</td>\n",
       "      <td>25.45</td>\n",
       "    </tr>\n",
       "    <tr>\n",
       "      <th>2</th>\n",
       "      <td>IRFC</td>\n",
       "      <td>03-Feb-2021</td>\n",
       "      <td>24.80</td>\n",
       "    </tr>\n",
       "    <tr>\n",
       "      <th>3</th>\n",
       "      <td>IRFC</td>\n",
       "      <td>04-Feb-2021</td>\n",
       "      <td>24.25</td>\n",
       "    </tr>\n",
       "    <tr>\n",
       "      <th>4</th>\n",
       "      <td>IRFC</td>\n",
       "      <td>05-Feb-2021</td>\n",
       "      <td>25.60</td>\n",
       "    </tr>\n",
       "  </tbody>\n",
       "</table>\n",
       "</div>"
      ],
      "text/plain": [
       "  Symbol         Date  Open_Price\n",
       "0   IRFC  01-Feb-2021       25.25\n",
       "1   IRFC  02-Feb-2021       25.45\n",
       "2   IRFC  03-Feb-2021       24.80\n",
       "3   IRFC  04-Feb-2021       24.25\n",
       "4   IRFC  05-Feb-2021       25.60"
      ]
     },
     "execution_count": 74,
     "metadata": {},
     "output_type": "execute_result"
    }
   ],
   "source": [
    "stock1_copy.head()"
   ]
  },
  {
   "cell_type": "code",
   "execution_count": 76,
   "id": "4afa3a10-6a16-4139-a4c1-9e7ff6b58e3a",
   "metadata": {},
   "outputs": [
    {
     "data": {
      "text/html": [
       "<div>\n",
       "<style scoped>\n",
       "    .dataframe tbody tr th:only-of-type {\n",
       "        vertical-align: middle;\n",
       "    }\n",
       "\n",
       "    .dataframe tbody tr th {\n",
       "        vertical-align: top;\n",
       "    }\n",
       "\n",
       "    .dataframe thead th {\n",
       "        text-align: right;\n",
       "    }\n",
       "</style>\n",
       "<table border=\"1\" class=\"dataframe\">\n",
       "  <thead>\n",
       "    <tr style=\"text-align: right;\">\n",
       "      <th></th>\n",
       "      <th>Symbol</th>\n",
       "      <th>Date</th>\n",
       "      <th>Open_Price</th>\n",
       "    </tr>\n",
       "  </thead>\n",
       "  <tbody>\n",
       "    <tr>\n",
       "      <th>0</th>\n",
       "      <td>SKIPPER</td>\n",
       "      <td>01-Feb-2021</td>\n",
       "      <td>60.25</td>\n",
       "    </tr>\n",
       "    <tr>\n",
       "      <th>1</th>\n",
       "      <td>SKIPPER</td>\n",
       "      <td>02-Feb-2021</td>\n",
       "      <td>62.70</td>\n",
       "    </tr>\n",
       "    <tr>\n",
       "      <th>2</th>\n",
       "      <td>SKIPPER</td>\n",
       "      <td>03-Feb-2021</td>\n",
       "      <td>63.05</td>\n",
       "    </tr>\n",
       "    <tr>\n",
       "      <th>3</th>\n",
       "      <td>SKIPPER</td>\n",
       "      <td>04-Feb-2021</td>\n",
       "      <td>63.00</td>\n",
       "    </tr>\n",
       "    <tr>\n",
       "      <th>4</th>\n",
       "      <td>SKIPPER</td>\n",
       "      <td>05-Feb-2021</td>\n",
       "      <td>67.00</td>\n",
       "    </tr>\n",
       "  </tbody>\n",
       "</table>\n",
       "</div>"
      ],
      "text/plain": [
       "    Symbol         Date  Open_Price\n",
       "0  SKIPPER  01-Feb-2021       60.25\n",
       "1  SKIPPER  02-Feb-2021       62.70\n",
       "2  SKIPPER  03-Feb-2021       63.05\n",
       "3  SKIPPER  04-Feb-2021       63.00\n",
       "4  SKIPPER  05-Feb-2021       67.00"
      ]
     },
     "execution_count": 76,
     "metadata": {},
     "output_type": "execute_result"
    }
   ],
   "source": [
    "stock2_copy.head()"
   ]
  },
  {
   "cell_type": "code",
   "execution_count": 77,
   "id": "8aa1d7ef-269e-4faf-8b01-f3596bbedcab",
   "metadata": {},
   "outputs": [],
   "source": [
    "stock1_copy['Date'] = pd.to_datetime(stock1_copy['Date'])"
   ]
  },
  {
   "cell_type": "code",
   "execution_count": 78,
   "id": "b280a8f9-02fc-4161-be33-732b44ab3552",
   "metadata": {},
   "outputs": [],
   "source": [
    "stock2_copy['Date'] = pd.to_datetime(stock2_copy['Date'])"
   ]
  },
  {
   "cell_type": "code",
   "execution_count": 79,
   "id": "2af157c4-2cec-4a28-8f4e-24cda49a2eac",
   "metadata": {},
   "outputs": [
    {
     "data": {
      "text/plain": [
       "pandas.core.series.Series"
      ]
     },
     "execution_count": 79,
     "metadata": {},
     "output_type": "execute_result"
    }
   ],
   "source": [
    "type(stock1_copy['Date'])"
   ]
  },
  {
   "cell_type": "code",
   "execution_count": 80,
   "id": "31688462-f140-42c4-bc45-557089f644b8",
   "metadata": {},
   "outputs": [
    {
     "data": {
      "text/plain": [
       "pandas.core.series.Series"
      ]
     },
     "execution_count": 80,
     "metadata": {},
     "output_type": "execute_result"
    }
   ],
   "source": [
    "type(stock2_copy['Date'])"
   ]
  },
  {
   "cell_type": "code",
   "execution_count": 81,
   "id": "243d4426-a968-4159-a414-2913f7d12769",
   "metadata": {},
   "outputs": [],
   "source": [
    "# Set the Date column as the index\n",
    "stock1_copy.set_index('Date', inplace=True)"
   ]
  },
  {
   "cell_type": "code",
   "execution_count": 83,
   "id": "f1831b70-b6d9-42a2-b1d0-eefe4d0cf84d",
   "metadata": {},
   "outputs": [
    {
     "data": {
      "image/png": "[encoded data removed]",
      "text/plain": [
       "<Figure size 1000x500 with 1 Axes>"
      ]
     },
     "metadata": {},
     "output_type": "display_data"
    }
   ],
   "source": [
    "# Plot the line chart\n",
    "plt.figure(figsize=(10, 5))\n",
    "plt.plot(stock1_copy.index, stock1_copy['Open_Price'])\n",
    "plt.title('Line Chart of IRFC with Dates')\n",
    "plt.xlabel('Date')\n",
    "plt.ylabel('Open_Price')\n",
    "plt.grid(True)\n",
    "plt.show()"
   ]
  },
  {
   "cell_type": "code",
   "execution_count": 84,
   "id": "7a91140d-c555-44b5-9fef-a0bf22b5605b",
   "metadata": {},
   "outputs": [],
   "source": [
    "# Set the Date column as the index\n",
    "stock2_copy.set_index('Date', inplace=True)"
   ]
  },
  {
   "cell_type": "code",
   "execution_count": 86,
   "id": "99f4faf4-4939-42f5-b0b7-b1321deb8940",
   "metadata": {},
   "outputs": [
    {
     "data": {
      "image/png": "[encoded data removed]",
      "text/plain": [
       "<Figure size 1000x500 with 1 Axes>"
      ]
     },
     "metadata": {},
     "output_type": "display_data"
    }
   ],
   "source": [
    "# Plot the line chart\n",
    "plt.figure(figsize=(10, 5))\n",
    "plt.plot(stock2_copy.index, stock2_copy['Open_Price'])\n",
    "plt.title('Line Chart of SKIPPER with Dates')\n",
    "plt.xlabel('Date')\n",
    "plt.ylabel('Open_Price')\n",
    "plt.grid(True)\n",
    "plt.show()"
   ]
  },
  {
   "cell_type": "code",
   "execution_count": 89,
   "id": "543f3326-5439-462b-acf7-631056029ecb",
   "metadata": {},
   "outputs": [],
   "source": [
    "#now doing all calculation for both stock"
   ]
  },
  {
   "cell_type": "code",
   "execution_count": 90,
   "id": "73341c3c-d219-4ab7-b854-e59d889eae2f",
   "metadata": {},
   "outputs": [],
   "source": [
    "stock2=stock2_copy['Open_Price']"
   ]
  },
  {
   "cell_type": "code",
   "execution_count": 92,
   "id": "c2977220-c9ab-4bfe-b8df-89e695227d2f",
   "metadata": {},
   "outputs": [],
   "source": [
    "stock1=stock1_copy['Open_Price']"
   ]
  },
  {
   "cell_type": "code",
   "execution_count": 93,
   "id": "59b13261-0ac6-4346-9cf5-0a9f316c516f",
   "metadata": {},
   "outputs": [
    {
     "data": {
      "text/plain": [
       "Date\n",
       "2021-02-01    25.25\n",
       "2021-02-02    25.45\n",
       "2021-02-03    24.80\n",
       "2021-02-04    24.25\n",
       "2021-02-05    25.60\n",
       "Name: Open_Price, dtype: float64"
      ]
     },
     "execution_count": 93,
     "metadata": {},
     "output_type": "execute_result"
    }
   ],
   "source": [
    "stock1.head()"
   ]
  },
  {
   "cell_type": "code",
   "execution_count": 91,
   "id": "da19a2bf-438c-4446-b039-1df4db66f642",
   "metadata": {},
   "outputs": [
    {
     "data": {
      "text/plain": [
       "Date\n",
       "2021-02-01    60.25\n",
       "2021-02-02    62.70\n",
       "2021-02-03    63.05\n",
       "2021-02-04    63.00\n",
       "2021-02-05    67.00\n",
       "Name: Open_Price, dtype: float64"
      ]
     },
     "execution_count": 91,
     "metadata": {},
     "output_type": "execute_result"
    }
   ],
   "source": [
    "stock2.head()"
   ]
  },
  {
   "cell_type": "code",
   "execution_count": 97,
   "id": "0a2b38e7-5a00-47c9-8bf3-cc6f02cde696",
   "metadata": {},
   "outputs": [],
   "source": [
    "# Calculate daily returns\n",
    "returns_stock1 = stock1.pct_change().dropna()"
   ]
  },
  {
   "cell_type": "code",
   "execution_count": 94,
   "id": "8f267675-4c7d-464d-8eff-f6d7f166218c",
   "metadata": {},
   "outputs": [],
   "source": [
    "# Calculate daily returns\n",
    "returns_stock2 = stock2.pct_change().dropna()"
   ]
  },
  {
   "cell_type": "code",
   "execution_count": 98,
   "id": "213cfcd8-dd77-410d-921e-bb1969aa53b1",
   "metadata": {},
   "outputs": [
    {
     "data": {
      "text/plain": [
       "Date\n",
       "2021-02-02    0.007921\n",
       "2021-02-03   -0.025540\n",
       "2021-02-04   -0.022177\n",
       "2021-02-05    0.055670\n",
       "2021-02-08    0.011719\n",
       "                ...   \n",
       "2024-10-28   -0.028193\n",
       "2024-10-29    0.076397\n",
       "2024-10-30   -0.007602\n",
       "2024-10-31    0.082173\n",
       "2024-11-01    0.011261\n",
       "Name: Open_Price, Length: 931, dtype: float64"
      ]
     },
     "execution_count": 98,
     "metadata": {},
     "output_type": "execute_result"
    }
   ],
   "source": [
    "returns_stock1"
   ]
  },
  {
   "cell_type": "code",
   "execution_count": 96,
   "id": "8ef7aa1e-3b3f-45a6-beaf-ab2990cd5fdc",
   "metadata": {},
   "outputs": [
    {
     "data": {
      "text/plain": [
       "Date\n",
       "2021-02-02    0.040664\n",
       "2021-02-03    0.005582\n",
       "2021-02-04   -0.000793\n",
       "2021-02-05    0.063492\n",
       "2021-02-08   -0.022388\n",
       "                ...   \n",
       "2024-10-28   -0.042098\n",
       "2024-10-29    0.045620\n",
       "2024-10-30   -0.025858\n",
       "2024-10-31    0.040927\n",
       "2024-11-01    0.012055\n",
       "Name: Open_Price, Length: 931, dtype: float64"
      ]
     },
     "execution_count": 96,
     "metadata": {},
     "output_type": "execute_result"
    }
   ],
   "source": [
    "returns_stock2"
   ]
  },
  {
   "cell_type": "code",
   "execution_count": 99,
   "id": "104b9531-3bbb-4510-8c55-8c7cbe38845d",
   "metadata": {},
   "outputs": [
    {
     "data": {
      "image/png": "[encoded data removed]",
      "text/plain": [
       "<Figure size 1000x500 with 1 Axes>"
      ]
     },
     "metadata": {},
     "output_type": "display_data"
    }
   ],
   "source": [
    "# compare daily returns of irfc and skipper\n",
    "plt.figure(figsize=(10, 5))\n",
    "plt.plot(returns_stock1.index, returns_stock1, label='IRFC')\n",
    "plt.plot(returns_stock2.index, returns_stock2, label='SKIPPER')\n",
    "plt.title('Daily Returns')\n",
    "plt.xlabel('Date')\n",
    "plt.ylabel('Daily Return')\n",
    "plt.legend()\n",
    "plt.grid(True)\n",
    "plt.show()"
   ]
  },
  {
   "cell_type": "code",
   "execution_count": null,
   "id": "cceafa47-b60e-462f-a58d-0330c2f5456f",
   "metadata": {},
   "outputs": [],
   "source": [
    "# Plot cumulative returns\n",
    "plt.figure(figsize=(10, 5))\n",
    "plt.plot(cumulative_returns, label='IRFC')\n",
    "plt.title('Cumulative Return of IRFC')\n",
    "plt.xlabel('Date')\n",
    "plt.ylabel('Cumulative Return in %')\n",
    "plt.legend()\n",
    "plt.grid(True)\n",
    "plt.show()"
   ]
  },
  {
   "cell_type": "code",
   "execution_count": 100,
   "id": "95b1f138-3aa0-475a-b4e4-8bf011da346b",
   "metadata": {},
   "outputs": [],
   "source": [
    "# Calculate cumulative returns\n",
    "cumulative_return_irfc = (1 + returns_stock1).cumprod() - 1"
   ]
  },
  {
   "cell_type": "code",
   "execution_count": 108,
   "id": "d4c1fad1-9a76-4be4-b7f6-9dfcd7bdb91d",
   "metadata": {},
   "outputs": [],
   "source": [
    "# Calculate cumulative returns\n",
    "cumulative_return_skipper = (1 + returns_stock2).cumprod() - 1"
   ]
  },
  {
   "cell_type": "code",
   "execution_count": 102,
   "id": "b33ec1d6-9922-44da-94a9-50ad3f51f80c",
   "metadata": {},
   "outputs": [
    {
     "data": {
      "text/plain": [
       "Date\n",
       "2021-02-02    0.007921\n",
       "2021-02-03   -0.017822\n",
       "2021-02-04   -0.039604\n",
       "2021-02-05    0.013861\n",
       "2021-02-08    0.025743\n",
       "                ...   \n",
       "2024-10-28    4.323960\n",
       "2024-10-29    4.730693\n",
       "2024-10-30    4.687129\n",
       "2024-10-31    5.154455\n",
       "2024-11-01    5.223762\n",
       "Name: Open_Price, Length: 931, dtype: float64"
      ]
     },
     "execution_count": 102,
     "metadata": {},
     "output_type": "execute_result"
    }
   ],
   "source": [
    "cumulative_return_irfc"
   ]
  },
  {
   "cell_type": "code",
   "execution_count": 109,
   "id": "1bac2f5b-cace-4653-8746-e14fac603bd9",
   "metadata": {},
   "outputs": [
    {
     "data": {
      "text/plain": [
       "Date\n",
       "2021-02-02    0.040664\n",
       "2021-02-03    0.046473\n",
       "2021-02-04    0.045643\n",
       "2021-02-05    0.112033\n",
       "2021-02-08    0.087137\n",
       "                ...   \n",
       "2024-10-28    7.440664\n",
       "2024-10-29    7.825726\n",
       "2024-10-30    7.597510\n",
       "2024-10-31    7.949378\n",
       "2024-11-01    8.057261\n",
       "Name: Open_Price, Length: 931, dtype: float64"
      ]
     },
     "execution_count": 109,
     "metadata": {},
     "output_type": "execute_result"
    }
   ],
   "source": [
    "cumulative_returns_skipper"
   ]
  },
  {
   "cell_type": "code",
   "execution_count": 105,
   "id": "5e1a8d0e-dabe-4848-be0b-bd990925c9ea",
   "metadata": {},
   "outputs": [],
   "source": [
    "#converting returns to %\n",
    "def pre_cum(x):\n",
    "    return x*100"
   ]
  },
  {
   "cell_type": "code",
   "execution_count": 106,
   "id": "c4b48624-af39-4301-905f-ad6d36955214",
   "metadata": {},
   "outputs": [],
   "source": [
    "cumulative_return_irfc_p=cumulative_return_irfc.apply(pre_cum)"
   ]
  },
  {
   "cell_type": "code",
   "execution_count": 110,
   "id": "ea246a73-cb09-412b-95b8-7f69cffbd9c5",
   "metadata": {},
   "outputs": [],
   "source": [
    "cumulative_return_skipper_p=cumulative_return_skipper.apply(pre_cum)"
   ]
  },
  {
   "cell_type": "code",
   "execution_count": 111,
   "id": "11cc0af9-f5e5-431a-8f23-2dee2e53ae20",
   "metadata": {},
   "outputs": [],
   "source": [
    "#comperaing cumulative returns of both stock"
   ]
  },
  {
   "cell_type": "code",
   "execution_count": 112,
   "id": "88f9c52b-df3d-45ba-a2d3-5a8a08096c73",
   "metadata": {},
   "outputs": [
    {
     "data": {
      "image/png": "[encoded data removed]",
      "text/plain": [
       "<Figure size 1000x500 with 1 Axes>"
      ]
     },
     "metadata": {},
     "output_type": "display_data"
    }
   ],
   "source": [
    "# Plot cumulative returns\n",
    "plt.figure(figsize=(10, 5))\n",
    "plt.plot(cumulative_return_irfc_p, label='IRFC')\n",
    "plt.plot(cumulative_return_skipper_p, label='SKIPPER')\n",
    "plt.title('Cumulative Return of stocks IRFC vs SKIPPER')\n",
    "plt.xlabel('Date')\n",
    "plt.ylabel('Cumulative Return in %')\n",
    "plt.legend()\n",
    "plt.grid(True)\n",
    "plt.show()"
   ]
  },
  {
   "cell_type": "code",
   "execution_count": 115,
   "id": "907dd957-79c1-4f10-a82f-137a1620963b",
   "metadata": {},
   "outputs": [],
   "source": [
    "# Calculate expected returns for a day\n",
    "expected_return_stock1 = returns_stock1.mean()*100\n",
    "expected_return_stock2 = returns_stock2.mean()*100"
   ]
  },
  {
   "cell_type": "code",
   "execution_count": 121,
   "id": "7f6ace93-46ee-4dbc-8c6d-e8bb207f0479",
   "metadata": {},
   "outputs": [
    {
     "data": {
      "text/plain": [
       "0.2419762412784637"
      ]
     },
     "execution_count": 121,
     "metadata": {},
     "output_type": "execute_result"
    }
   ],
   "source": [
    "#IRFC in %\n",
    "expected_return_stock1"
   ]
  },
  {
   "cell_type": "code",
   "execution_count": 122,
   "id": "13c074f0-6784-4963-8bcf-1fd893247737",
   "metadata": {},
   "outputs": [
    {
     "data": {
      "text/plain": [
       "0.31538783395939357"
      ]
     },
     "execution_count": 122,
     "metadata": {},
     "output_type": "execute_result"
    }
   ],
   "source": [
    "#SKIPPER in %\n",
    "expected_return_stock2"
   ]
  },
  {
   "cell_type": "code",
   "execution_count": 118,
   "id": "21f155f6-a96e-4c51-91e1-75c49f7134b0",
   "metadata": {},
   "outputs": [],
   "source": [
    "# Portfolio return\n",
    "weights = [0.5, 0.5]\n",
    "portfolio_return = weights[0] * expected_return_stock1 + weights[1] * expected_return_stock2"
   ]
  },
  {
   "cell_type": "code",
   "execution_count": 123,
   "id": "8ea33c0f-8b48-4155-b5dc-8ba2c457ca7d",
   "metadata": {},
   "outputs": [
    {
     "data": {
      "text/plain": [
       "0.2786820376189286"
      ]
     },
     "execution_count": 123,
     "metadata": {},
     "output_type": "execute_result"
    }
   ],
   "source": [
    "#portfolio_return for a day in %\n",
    "portfolio_return"
   ]
  },
  {
   "cell_type": "code",
   "execution_count": 124,
   "id": "4165790c-37a8-4350-8162-b489d9dba9d7",
   "metadata": {},
   "outputs": [],
   "source": [
    "# Calculate covariance\n",
    "covariance_matrix = np.cov(returns_stock1, returns_stock2)\n",
    "covariance = covariance_matrix[0, 1]"
   ]
  },
  {
   "cell_type": "code",
   "execution_count": 125,
   "id": "404f48b1-12a7-4e1c-a798-92493bcaa461",
   "metadata": {},
   "outputs": [
    {
     "data": {
      "text/plain": [
       "array([[0.0009356 , 0.00033019],\n",
       "       [0.00033019, 0.00162549]])"
      ]
     },
     "execution_count": 125,
     "metadata": {},
     "output_type": "execute_result"
    }
   ],
   "source": [
    "covariance_matrix"
   ]
  },
  {
   "cell_type": "code",
   "execution_count": 126,
   "id": "411bfcda-e977-40d6-af84-d2dc950d7ec3",
   "metadata": {},
   "outputs": [
    {
     "data": {
      "text/plain": [
       "0.00033018612545972426"
      ]
     },
     "execution_count": 126,
     "metadata": {},
     "output_type": "execute_result"
    }
   ],
   "source": [
    "covariance"
   ]
  },
  {
   "cell_type": "code",
   "execution_count": 127,
   "id": "64d74eed-ad0b-4bab-8432-cd61c49ef855",
   "metadata": {},
   "outputs": [],
   "source": [
    "# Portfolio variance and standard deviation\n",
    "portfolio_variance = (weights[0]**2 * returns_stock1.var() + \n",
    "                     weights[1]**2 * returns_stock2.var() + \n",
    "                     2 * weights[0] * weights[1] * covariance)\n",
    "portfolio_std_dev = np.sqrt(portfolio_variance)"
   ]
  },
  {
   "cell_type": "code",
   "execution_count": 128,
   "id": "d63da5f3-309c-4954-b5ed-074bba6c774a",
   "metadata": {},
   "outputs": [
    {
     "data": {
      "text/plain": [
       "0.0008053640753064026"
      ]
     },
     "execution_count": 128,
     "metadata": {},
     "output_type": "execute_result"
    }
   ],
   "source": [
    "portfolio_variance"
   ]
  },
  {
   "cell_type": "code",
   "execution_count": 129,
   "id": "6e9c06c3-9a70-4973-b2ed-0b23119b27c3",
   "metadata": {},
   "outputs": [
    {
     "data": {
      "text/plain": [
       "0.028378937177181294"
      ]
     },
     "execution_count": 129,
     "metadata": {},
     "output_type": "execute_result"
    }
   ],
   "source": [
    "portfolio_std_dev"
   ]
  },
  {
   "cell_type": "code",
   "execution_count": 130,
   "id": "85e7a8b6-a89c-4680-a5c9-de014849a596",
   "metadata": {},
   "outputs": [
    {
     "name": "stdout",
     "output_type": "stream",
     "text": [
      "Expected Portfolio Return: 0.28%\n",
      "Portfolio Variance: 0.000805\n",
      "Portfolio Standard Deviation (Risk): 0.028379\n"
     ]
    }
   ],
   "source": [
    "# Display results\n",
    "print(f\"Expected Portfolio Return: {portfolio_return :.2f}%\")\n",
    "print(f\"Portfolio Variance: {portfolio_variance:.6f}\")\n",
    "print(f\"Portfolio Standard Deviation (Risk): {portfolio_std_dev:.6f}\")"
   ]
  },
  {
   "cell_type": "code",
   "execution_count": 132,
   "id": "602f7367-db63-4dd3-a06e-7202c1ebcd76",
   "metadata": {},
   "outputs": [
    {
     "data": {
      "image/png": "[encoded data removed]",
      "text/plain": [
       "<Figure size 1000x500 with 1 Axes>"
      ]
     },
     "metadata": {},
     "output_type": "display_data"
    }
   ],
   "source": [
    "# Scatter plot for portfolio risk analysis\n",
    "individual_risks = [returns_stock1.std(), returns_stock2.std()]\n",
    "plt.figure(figsize=(10, 5))\n",
    "plt.scatter(individual_risks, [expected_return_stock1, expected_return_stock2], color='blue', label='Individual Stocks')\n",
    "plt.scatter(portfolio_std_dev, portfolio_return, color='red', marker='x', s=100, label='Portfolio')\n",
    "plt.title('Portfolio Risk and Return')\n",
    "plt.xlabel('Risk (Standard Deviation)')\n",
    "plt.ylabel('Return (Expected Return)')\n",
    "plt.legend()\n",
    "plt.grid(True)\n",
    "plt.show()"
   ]
  },
  {
   "cell_type": "code",
   "execution_count": null,
   "id": "1a741490-5006-418c-81eb-8554bf82e509",
   "metadata": {},
   "outputs": [],
   "source": []
  },
  {
   "cell_type": "code",
   "execution_count": null,
   "id": "c85ef76f-04e7-4d01-bf15-1ddb661fc686",
   "metadata": {},
   "outputs": [],
   "source": []
  }
 ],
 "metadata": {
  "kernelspec": {
   "display_name": "Python 3 (ipykernel)",
   "language": "python",
   "name": "python3"
  },
  "language_info": {
   "codemirror_mode": {
    "name": "ipython",
    "version": 3
   },
   "file_extension": ".py",
   "mimetype": "text/x-python",
   "name": "python",
   "nbconvert_exporter": "python",
   "pygments_lexer": "ipython3",
   "version": "3.11.7"
  }
 },
 "nbformat": 4,
 "nbformat_minor": 5
}
